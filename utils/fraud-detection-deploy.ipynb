{
 "cells": [
  {
   "cell_type": "code",
   "execution_count": 1,
   "id": "afcb4502-48c5-4886-bac3-0824b26085db",
   "metadata": {},
   "outputs": [],
   "source": [
    "with open(\"fraud_detection_app.py\", \"w\", encoding=\"utf-8\") as f:\n",
    "    f.write(\"\"\"\n",
    "import pandas as pd\n",
    "import numpy as np\n",
    "import joblib\n",
    "import streamlit as st\n",
    "from sklearn.preprocessing import StandardScaler\n",
    "\n",
    "# Load trained model\n",
    "model = joblib.load('fraud_detection_model.pkl')\n",
    "\n",
    "# Load scaler and fit on known data\n",
    "scaler = StandardScaler()\n",
    "\n",
    "def preprocess_input(data):\n",
    "    \\\"\\\"\\\" Preprocess user input \\\"\\\"\\\"\n",
    "    data[['Amount', 'Time']] = scaler.fit_transform(data[['Amount', 'Time']])\n",
    "    return data\n",
    "\n",
    "# Streamlit UI\n",
    "st.title(\"Credit Card Fraud Detection\")\n",
    "st.write(\"Enter transaction details to check if it's fraudulent or not.\")\n",
    "\n",
    "# User input fields\n",
    "amount = st.number_input(\"Transaction Amount\", min_value=0.0, format=\"%.2f\")\n",
    "time = st.number_input(\"Time since first transaction (seconds)\", min_value=0.0, format=\"%.2f\")\n",
    "v_features = [st.number_input(f\"V{i}\", value=0.0, format=\"%.4f\") for i in range(1, 29)]\n",
    "\n",
    "# Convert to DataFrame\n",
    "input_data = pd.DataFrame([[time, *v_features, amount]], columns=['Time'] + [f'V{i}' for i in range(1, 29)] + ['Amount'])\n",
    "\n",
    "if st.button(\"Predict Fraud\"):    \n",
    "    processed_data = preprocess_input(input_data)\n",
    "    prediction = model.predict(processed_data)[0]\n",
    "    \n",
    "    if prediction == 1:\n",
    "        st.error(\"🚨 Fraudulent Transaction Detected!\")\n",
    "    else:\n",
    "        st.success(\"✅ Legitimate Transaction\")\n",
    "    \"\"\")\n"
   ]
  },
  {
   "cell_type": "code",
   "execution_count": null,
   "id": "6c98d129-f013-4e86-b17f-0137c81feccb",
   "metadata": {},
   "outputs": [],
   "source": []
  }
 ],
 "metadata": {
  "kernelspec": {
   "display_name": "Python 3 (ipykernel)",
   "language": "python",
   "name": "python3"
  },
  "language_info": {
   "codemirror_mode": {
    "name": "ipython",
    "version": 3
   },
   "file_extension": ".py",
   "mimetype": "text/x-python",
   "name": "python",
   "nbconvert_exporter": "python",
   "pygments_lexer": "ipython3",
   "version": "3.12.7"
  }
 },
 "nbformat": 4,
 "nbformat_minor": 5
}
